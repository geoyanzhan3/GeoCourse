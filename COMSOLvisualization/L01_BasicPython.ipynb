{
 "cells": [
  {
   "cell_type": "markdown",
   "metadata": {},
   "source": [
    "### Python basics\n",
    "\n",
    "- By Greg Waite (CIDER, 2019) \n",
    "- Modified by Yan Zhan (2020) \n",
    "\n",
    "This is a basic jupyter notebook. It contains a mix of formatted \"Markdown\" cells like this one, and cells that contain python \"Code\", like the next one. Cells can be executed one at a time or all at once. To run a cell, you can either use the Cell dropdown menu above or hit __shift + enter__.<BR>\n",
    "    \n",
    "You can have equations like this:\n",
    "    \n",
    "$$ E = mc^2 \\tag{1}$$\n",
    "    \n",
    "in you \"Markdown\" cells.\n",
    "    \n",
    "This set of cells in the ipython notebook (jupyter) will allow for demonstration of basic python programming. The results from my most recent run are displayed. You should get the same results when you run the cells. If you want to clear the output of previous runs, you can do that with the Cell dropdown menu.<BR>\n",
    "    \n",
    "If you set a variable in one cell (say x=10) it will stay in memory and can be used in other cells.    Usually, cells are run in order from top to bottom, but you can jump around as well. But if you run a cell that refers to a variable that has not been set yet, you will get an error."
   ]
  },
  {
   "cell_type": "code",
   "execution_count": 1,
   "metadata": {},
   "outputs": [],
   "source": [
    "# lines that begin with a # are comments meaning they are not interpreted\n",
    "# so can type x=4 and it does not create a variable x or set it equal to 4\n",
    "\n",
    "# if I want to create a variable and give it a value, I could do something like this:\n",
    "x = 10 # this is a comment (no ; at the end, different to the MATLAB)"
   ]
  },
  {
   "cell_type": "code",
   "execution_count": 8,
   "metadata": {},
   "outputs": [
    {
     "name": "stdout",
     "output_type": "stream",
     "text": [
      "x = 10\n"
     ]
    }
   ],
   "source": [
    "# print \n",
    "print(\"x = {}\".format(x))"
   ]
  },
  {
   "cell_type": "markdown",
   "metadata": {},
   "source": [
    "### Different Types"
   ]
  },
  {
   "cell_type": "code",
   "execution_count": 25,
   "metadata": {},
   "outputs": [
    {
     "name": "stdout",
     "output_type": "stream",
     "text": [
      "The type of a is <class 'str'>\n",
      "The type of b is <class 'int'>\n",
      "The type of c is <class 'float'>\n",
      "The type of d is <class 'list'>\n",
      "The type of e is <class 'list'>\n",
      "The type of f is <class 'dict'>\n",
      "The type of g is <class 'list'>\n",
      "The type of y is <class 'complex'>\n"
     ]
    }
   ],
   "source": [
    "# string\n",
    "a = \"ABCDabcd\"\n",
    "print(\"The type of a is {}\".format(type(a)))\n",
    "\n",
    "# integrer\n",
    "b = 1\n",
    "print(\"The type of b is {}\".format(type(b)))\n",
    "\n",
    "# float\n",
    "c = 1.\n",
    "print(\"The type of c is {}\".format(type(c)))\n",
    "\n",
    "# list\n",
    "d = [1, 2, 3, 4]\n",
    "print(\"The type of d is {}\".format(type(d)))\n",
    "\n",
    "# list\n",
    "e = ['a', 'b', 'c']\n",
    "print(\"The type of e is {}\".format(type(e)))\n",
    "\n",
    "# dictionary\n",
    "f = {'a': 1, 'b':[1, 2, 3]}\n",
    "print(\"The type of f is {}\".format(type(f)))\n",
    "\n",
    "# list\n",
    "g = [a, b, c, d, e, f]\n",
    "print(\"The type of g is {}\".format(type(g)))\n",
    "\n",
    "# complex number\n",
    "# how about a complex number using j to indicate the square root of negative 1\n",
    "y = 1. + 1j\n",
    "# Now x is complex\n",
    "print(\"The type of y is {}\".format(type(y)))"
   ]
  },
  {
   "cell_type": "code",
   "execution_count": 24,
   "metadata": {},
   "outputs": [
    {
     "name": "stdout",
     "output_type": "stream",
     "text": [
      "['ABCDabcd', 1, 1.0, [1, 2, 3, 4], ['a', 'b', 'c'], {'a': 1, 'b': [1, 2, 3]}]\n"
     ]
    }
   ],
   "source": [
    "# the element of a list can be anything\n",
    "print(g)"
   ]
  },
  {
   "cell_type": "markdown",
   "metadata": {},
   "source": [
    "#### Further reading\n",
    "\n",
    "Data structures in Python\n",
    "\n",
    "https://docs.python.org/3/tutorial/datastructures.html"
   ]
  },
  {
   "cell_type": "markdown",
   "metadata": {},
   "source": [
    "### List"
   ]
  },
  {
   "cell_type": "code",
   "execution_count": 11,
   "metadata": {},
   "outputs": [
    {
     "name": "stdout",
     "output_type": "stream",
     "text": [
      "a = [1, 2, 3, 4, 5, 6]\n",
      "Is the 1st element of a = 2?\n",
      "No! the 1st element of a = 1\n"
     ]
    }
   ],
   "source": [
    "# Note the index of the list in Python is different from MATLAB\n",
    "a = [1,2,3,4,5,6]\n",
    "print(\"a = {}\".format(a))\n",
    "# the index is not starting with 1\n",
    "print(\"Is the 1st element of a = {}?\".format(a[1]))\n",
    "# the index is starting with 0\n",
    "print(\"No! the 1st element of a = {}\".format(a[0]))"
   ]
  },
  {
   "cell_type": "markdown",
   "metadata": {},
   "source": [
    "### Loops"
   ]
  },
  {
   "cell_type": "code",
   "execution_count": 13,
   "metadata": {},
   "outputs": [
    {
     "name": "stdout",
     "output_type": "stream",
     "text": [
      "1\n",
      "2\n",
      "3\n",
      "4\n",
      "5\n",
      "6\n"
     ]
    }
   ],
   "source": [
    "# for Loop\n",
    "a = [1,2,3,4,5,6]\n",
    "\n",
    "for elem in a:\n",
    "    print(elem)"
   ]
  },
  {
   "cell_type": "code",
   "execution_count": 15,
   "metadata": {},
   "outputs": [
    {
     "name": "stdout",
     "output_type": "stream",
     "text": [
      "0\n",
      "1\n",
      "2\n",
      "3\n",
      "4\n"
     ]
    }
   ],
   "source": [
    "# while loop\n",
    "i = 0\n",
    "while i < 5:\n",
    "    print(i)\n",
    "    i += 1"
   ]
  },
  {
   "cell_type": "code",
   "execution_count": 17,
   "metadata": {},
   "outputs": [
    {
     "name": "stdout",
     "output_type": "stream",
     "text": [
      "0\n",
      "1\n",
      "2\n",
      "3\n",
      "4\n",
      "5\n"
     ]
    }
   ],
   "source": [
    "# use \"break\"\n",
    "i = 0\n",
    "while 1:\n",
    "    if i > 5:\n",
    "        break\n",
    "    print(i)\n",
    "    i += 1\n",
    "    "
   ]
  },
  {
   "cell_type": "markdown",
   "metadata": {},
   "source": [
    "### Conditions"
   ]
  },
  {
   "cell_type": "code",
   "execution_count": 25,
   "metadata": {},
   "outputs": [
    {
     "name": "stdout",
     "output_type": "stream",
     "text": [
      "True\n"
     ]
    }
   ],
   "source": [
    "a = 3\n",
    "b = 2\n",
    "\n",
    "print(a > b)"
   ]
  },
  {
   "cell_type": "code",
   "execution_count": 26,
   "metadata": {},
   "outputs": [
    {
     "name": "stdout",
     "output_type": "stream",
     "text": [
      "a is great than b\n"
     ]
    }
   ],
   "source": [
    "# if else\n",
    "if a > b:\n",
    "    print(\"a is great than b\")\n",
    "elif a < b:\n",
    "    print(\"b is great than a\")\n",
    "else:\n",
    "    print(\"a = b\")"
   ]
  },
  {
   "cell_type": "markdown",
   "metadata": {},
   "source": [
    "### Functions\n",
    "\n",
    "It is helpful to define a function, when you want to do certain operations in multiple situations."
   ]
  },
  {
   "cell_type": "code",
   "execution_count": 27,
   "metadata": {},
   "outputs": [
    {
     "name": "stdout",
     "output_type": "stream",
     "text": [
      "3\n"
     ]
    }
   ],
   "source": [
    "# make a function\n",
    "def simplesum(a, b):\n",
    "    c = a + b\n",
    "    return c\n",
    "\n",
    "# test the function\n",
    "print(simplesum(1,2))"
   ]
  },
  {
   "cell_type": "markdown",
   "metadata": {},
   "source": [
    "### Magic command\n",
    "- A magic command just means it is specific to ipython/jupyter.\n",
    "\n",
    "- So this % indicates whos is not a standard python command.\n",
    "\n",
    "- See: https://ipython.readthedocs.io/en/stable/interactive/magics.html#built-in-magic-commands"
   ]
  },
  {
   "cell_type": "code",
   "execution_count": 28,
   "metadata": {},
   "outputs": [
    {
     "name": "stdout",
     "output_type": "stream",
     "text": [
      "Variable    Type        Data/Info\n",
      "---------------------------------\n",
      "a           str         ABCDabcd\n",
      "b           int         1\n",
      "c           float       1.0\n",
      "d           list        n=4\n",
      "e           list        n=3\n",
      "f           dict        n=2\n",
      "g           list        n=6\n",
      "simplesum   function    <function simplesum at 0x10b0755f0>\n",
      "x           int         10\n",
      "y           complex     (1+1j)\n"
     ]
    }
   ],
   "source": [
    "# This command will write out all variables in use and some information about them\n",
    "\n",
    "%whos\n",
    "\n",
    "# Notice the percent sign? That means this is a 'magic command'. "
   ]
  },
  {
   "cell_type": "code",
   "execution_count": null,
   "metadata": {},
   "outputs": [],
   "source": []
  }
 ],
 "metadata": {
  "kernelspec": {
   "display_name": "Python 3",
   "language": "python",
   "name": "python3"
  },
  "language_info": {
   "codemirror_mode": {
    "name": "ipython",
    "version": 3
   },
   "file_extension": ".py",
   "mimetype": "text/x-python",
   "name": "python",
   "nbconvert_exporter": "python",
   "pygments_lexer": "ipython3",
   "version": "3.7.6"
  }
 },
 "nbformat": 4,
 "nbformat_minor": 4
}
