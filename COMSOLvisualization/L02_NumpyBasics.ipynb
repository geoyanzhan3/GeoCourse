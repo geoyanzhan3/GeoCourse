{
 "cells": [
  {
   "cell_type": "markdown",
   "metadata": {},
   "source": [
    "### L02 NumPy Module\n",
    "\n",
    "by Yan Zhan (2020)\n",
    "\n",
    "### What it NumPy\n",
    "\n",
    "NumPy is the fundamental package for scientific computing with Python. It is well documented online: www.numpy.org\n",
    "np is usually used as the short name for numpy"
   ]
  },
  {
   "cell_type": "code",
   "execution_count": 3,
   "metadata": {},
   "outputs": [
    {
     "name": "stdout",
     "output_type": "stream",
     "text": [
      "<class 'numpy.ndarray'>\n"
     ]
    }
   ],
   "source": [
    "# To use NumPy, you need to import it as a module\n",
    "import numpy as np\n",
    "\n",
    "# numpy array\n",
    "a = np.array([1, 2, 3, 4])\n",
    "\n",
    "print(type(a))"
   ]
  },
  {
   "cell_type": "code",
   "execution_count": 4,
   "metadata": {},
   "outputs": [
    {
     "name": "stdout",
     "output_type": "stream",
     "text": [
      "1\n"
     ]
    }
   ],
   "source": [
    "# 1st element\n",
    "print(a[0])"
   ]
  },
  {
   "cell_type": "code",
   "execution_count": 8,
   "metadata": {},
   "outputs": [
    {
     "name": "stdout",
     "output_type": "stream",
     "text": [
      "4\n",
      "4\n"
     ]
    }
   ],
   "source": [
    "# last element\n",
    "print(a[3])\n",
    "# or\n",
    "print(a[-1])"
   ]
  },
  {
   "cell_type": "code",
   "execution_count": 7,
   "metadata": {},
   "outputs": [
    {
     "name": "stdout",
     "output_type": "stream",
     "text": [
      "[1 2 3]\n"
     ]
    }
   ],
   "source": [
    "# 1st to 3nd element \n",
    "# Note: the element with index \"3\" is not include\n",
    "print(a[0:3])"
   ]
  },
  {
   "cell_type": "markdown",
   "metadata": {},
   "source": [
    "### Some useful preset arrays"
   ]
  },
  {
   "cell_type": "code",
   "execution_count": 13,
   "metadata": {},
   "outputs": [
    {
     "name": "stdout",
     "output_type": "stream",
     "text": [
      "a = [0. 0. 0.]\n",
      "b = [[0. 0. 0. 0.]\n",
      " [0. 0. 0. 0.]\n",
      " [0. 0. 0. 0.]]\n",
      "size of a is (3,), size of b is (3, 4)\n"
     ]
    }
   ],
   "source": [
    "# zeros\n",
    "a = np.zeros(3)\n",
    "print(\"a = {}\".format(a))\n",
    "\n",
    "# 3 by 4 matrix\n",
    "b = np.zeros([3, 4])\n",
    "print(\"b = {}\".format(b))\n",
    "\n",
    "# get the size of the array\n",
    "print(\"size of a is {}, size of b is {}\".format(a.shape, b.shape))"
   ]
  },
  {
   "cell_type": "code",
   "execution_count": 15,
   "metadata": {},
   "outputs": [
    {
     "name": "stdout",
     "output_type": "stream",
     "text": [
      "c = [[1. 1. 1.]\n",
      " [1. 1. 1.]]\n"
     ]
    }
   ],
   "source": [
    "# ones\n",
    "c = np.ones([2, 3])\n",
    "print(\"c = {}\".format(c))"
   ]
  },
  {
   "cell_type": "code",
   "execution_count": 16,
   "metadata": {},
   "outputs": [
    {
     "name": "stdout",
     "output_type": "stream",
     "text": [
      "d = [[nan nan nan]\n",
      " [nan nan nan]]\n"
     ]
    }
   ],
   "source": [
    "# empty array with NaN (Not a Number)\n",
    "d = np.ones([2, 3]) * np.nan\n",
    "print(\"d = {}\".format(d))"
   ]
  },
  {
   "cell_type": "code",
   "execution_count": 20,
   "metadata": {},
   "outputs": [
    {
     "name": "stdout",
     "output_type": "stream",
     "text": [
      "[[0.99019465 0.04333574 0.76049372 0.91546157 0.97428392 0.77508359]\n",
      " [0.8188577  0.2780579  0.98921261 0.17655138 0.05071514 0.60210888]\n",
      " [0.3258789  0.66433249 0.66820866 0.43939108 0.54439902 0.78130728]\n",
      " [0.13644429 0.26823797 0.70266653 0.75172151 0.43554786 0.24068949]\n",
      " [0.35023288 0.07436832 0.89852013 0.97045714 0.5352135  0.54845642]]\n"
     ]
    }
   ],
   "source": [
    "# random arrays\n",
    "# Create an array of the given shape and \n",
    "# populate it with random samples from a \n",
    "# uniform distribution over [0, 1).\n",
    "e = np.random.rand(5, 6) # different from np.zeros([5, 6])\n",
    "print(e)"
   ]
  },
  {
   "cell_type": "code",
   "execution_count": 22,
   "metadata": {},
   "outputs": [
    {
     "name": "stdout",
     "output_type": "stream",
     "text": [
      "[[-1.92494068 -1.26664931  0.27007927  0.21451145  1.77892667 -0.26229448]\n",
      " [ 0.45978313  0.44470892  0.43482363 -0.7472408   1.67832974 -0.2695291 ]\n",
      " [ 0.76865628  0.08748573  1.69626611  0.04550032 -1.02098194 -1.62661445]\n",
      " [-0.79193804 -1.79429904  1.35826153 -0.52677418  0.57920091 -0.09619149]\n",
      " [-1.60125763 -1.21241075 -0.36049126  1.79301961  1.93677673  0.66612726]]\n"
     ]
    }
   ],
   "source": [
    "# Return an array with the “standard normal” distribution.\n",
    "f = np.random.randn(5, 6) # different from np.zeros([5, 6])\n",
    "print(f)"
   ]
  },
  {
   "cell_type": "markdown",
   "metadata": {},
   "source": [
    "### numpy.linspace\n",
    "\n",
    "Return evenly spaced numbers over a specified interval.\n",
    "\n",
    "numpy.linspace(start, stop, num=50, endpoint=True, retstep=False, dtype=None, axis=0)"
   ]
  },
  {
   "cell_type": "code",
   "execution_count": 25,
   "metadata": {},
   "outputs": [
    {
     "name": "stdout",
     "output_type": "stream",
     "text": [
      "[0.   0.01 0.02 0.03 0.04 0.05 0.06 0.07 0.08 0.09 0.1  0.11 0.12 0.13\n",
      " 0.14 0.15 0.16 0.17 0.18 0.19 0.2  0.21 0.22 0.23 0.24 0.25 0.26 0.27\n",
      " 0.28 0.29 0.3  0.31 0.32 0.33 0.34 0.35 0.36 0.37 0.38 0.39 0.4  0.41\n",
      " 0.42 0.43 0.44 0.45 0.46 0.47 0.48 0.49 0.5  0.51 0.52 0.53 0.54 0.55\n",
      " 0.56 0.57 0.58 0.59 0.6  0.61 0.62 0.63 0.64 0.65 0.66 0.67 0.68 0.69\n",
      " 0.7  0.71 0.72 0.73 0.74 0.75 0.76 0.77 0.78 0.79 0.8  0.81 0.82 0.83\n",
      " 0.84 0.85 0.86 0.87 0.88 0.89 0.9  0.91 0.92 0.93 0.94 0.95 0.96 0.97\n",
      " 0.98 0.99 1.  ]\n"
     ]
    }
   ],
   "source": [
    "# create an array\n",
    "g = np.linspace(0, 1, 101)\n",
    "print(g)"
   ]
  },
  {
   "cell_type": "markdown",
   "metadata": {},
   "source": [
    "### numpy.arange\n",
    "\n",
    "Return evenly spaced values within a given interval.\n",
    "\n",
    "numpy.arange([start, ]stop, [step, ]dtype=None)"
   ]
  },
  {
   "cell_type": "code",
   "execution_count": 27,
   "metadata": {},
   "outputs": [
    {
     "name": "stdout",
     "output_type": "stream",
     "text": [
      "[  0   1   2   3   4   5   6   7   8   9  10  11  12  13  14  15  16  17\n",
      "  18  19  20  21  22  23  24  25  26  27  28  29  30  31  32  33  34  35\n",
      "  36  37  38  39  40  41  42  43  44  45  46  47  48  49  50  51  52  53\n",
      "  54  55  56  57  58  59  60  61  62  63  64  65  66  67  68  69  70  71\n",
      "  72  73  74  75  76  77  78  79  80  81  82  83  84  85  86  87  88  89\n",
      "  90  91  92  93  94  95  96  97  98  99 100]\n"
     ]
    }
   ],
   "source": [
    "# create an array\n",
    "h = np.arange(0, 101)\n",
    "print(h)\n",
    "# note the number \"101\" is not included."
   ]
  },
  {
   "cell_type": "markdown",
   "metadata": {},
   "source": [
    "### Basic operation"
   ]
  },
  {
   "cell_type": "code",
   "execution_count": 63,
   "metadata": {},
   "outputs": [
    {
     "name": "stdout",
     "output_type": "stream",
     "text": [
      "a is\n",
      "[[1 2 3]\n",
      " [4 5 6]]\n",
      "a + a is\n",
      "[[ 2  4  6]\n",
      " [ 8 10 12]]\n",
      "a - a is\n",
      "[[0 0 0]\n",
      " [0 0 0]]\n",
      "a * a is\n",
      "[[ 1  4  9]\n",
      " [16 25 36]]\n",
      "a x a is\n",
      "[[14 32]\n",
      " [32 77]]\n",
      "a / a is\n",
      "[[1. 1. 1.]\n",
      " [1. 1. 1.]]\n",
      "the inverse matrix of b is \n",
      "[[-2.   1. ]\n",
      " [ 1.5 -0.5]]\n",
      "test b x c\n",
      "[[1.00000000e+00 1.11022302e-16]\n",
      " [0.00000000e+00 1.00000000e+00]]\n",
      "test c x b\n",
      "[[1.0000000e+00 4.4408921e-16]\n",
      " [0.0000000e+00 1.0000000e+00]]\n"
     ]
    }
   ],
   "source": [
    "a = np.array([[1,2,3],\n",
    "              [4,5,6]])\n",
    "\n",
    "print(\"a is\")\n",
    "print(a)\n",
    "\n",
    "print(\"a + a is\")\n",
    "print(a + a)\n",
    "\n",
    "print(\"a - a is\")\n",
    "print(a - a)\n",
    "\n",
    "print(\"a * a is\")\n",
    "print(a * a) # note this is multiplication of each element\n",
    "\n",
    "print(\"a x a is\")\n",
    "print(np.dot(a, a.T)) # note this is multiplication of matrices\n",
    "# .T is transpose to make sure the the column # of the 1st matrix\n",
    "# = the row # of the 2nd matrix\n",
    "# (https://en.wikipedia.org/wiki/Matrix_multiplication)\n",
    "\n",
    "print(\"a / a is\")\n",
    "print(a/a) # note this is dividing of each element\n",
    "\n",
    "# calculate the inverse of a matrix\n",
    "b = np.array([[1,2],\n",
    "              [3,4]])\n",
    "print(\"the inverse matrix of b is \")\n",
    "c = np.linalg.inv(b)\n",
    "print(c) # note this is dividing of each element\n",
    "# test\n",
    "print(\"test b x c\")\n",
    "print(np.dot(b,c))\n",
    "print(\"test c x b\")\n",
    "print(np.dot(c,b))"
   ]
  },
  {
   "cell_type": "markdown",
   "metadata": {},
   "source": [
    "### Some useful operations"
   ]
  },
  {
   "cell_type": "code",
   "execution_count": 28,
   "metadata": {},
   "outputs": [
    {
     "name": "stdout",
     "output_type": "stream",
     "text": [
      "[   0    1    3    6   10   15   21   28   36   45   55   66   78   91\n",
      "  105  120  136  153  171  190  210  231  253  276  300  325  351  378\n",
      "  406  435  465  496  528  561  595  630  666  703  741  780  820  861\n",
      "  903  946  990 1035 1081 1128 1176 1225 1275 1326 1378 1431 1485 1540\n",
      " 1596 1653 1711 1770 1830 1891 1953 2016 2080 2145 2211 2278 2346 2415\n",
      " 2485 2556 2628 2701 2775 2850 2926 3003 3081 3160 3240 3321 3403 3486\n",
      " 3570 3655 3741 3828 3916 4005 4095 4186 4278 4371 4465 4560 4656 4753\n",
      " 4851 4950 5050]\n"
     ]
    }
   ],
   "source": [
    "# cumulative sum\n",
    "a = np.arange(0, 101)\n",
    "sum_a = a.cumsum()\n",
    "print(sum_a)"
   ]
  },
  {
   "cell_type": "code",
   "execution_count": 41,
   "metadata": {},
   "outputs": [
    {
     "name": "stdout",
     "output_type": "stream",
     "text": [
      "(3, 4)\n",
      "(12,)\n",
      "(3, 4)\n"
     ]
    }
   ],
   "source": [
    "# reshape\n",
    "b = np.zeros([3, 4])\n",
    "print(b.shape)\n",
    "\n",
    "# flatten the array\n",
    "c = b.reshape([-1])\n",
    "print(c.shape)\n",
    "\n",
    "# reshape back\n",
    "d = c.reshape(b.shape)\n",
    "print(d.shape)"
   ]
  },
  {
   "cell_type": "code",
   "execution_count": 69,
   "metadata": {},
   "outputs": [
    {
     "name": "stdout",
     "output_type": "stream",
     "text": [
      "a = [[1 2 3]\n",
      " [4 5 6]]\n",
      "b = [[4 5 6]\n",
      " [1 2 3]]\n",
      "b = [[3 2 1]\n",
      " [6 5 4]]\n"
     ]
    }
   ],
   "source": [
    "# flip the matrix\n",
    "a = np.array([[1,2,3],\n",
    "              [4,5,6]])\n",
    "\n",
    "# Flip array in the up/down direction.\n",
    "b = np.flipud(a)\n",
    "\n",
    "# Flip array in the left/right direction.\n",
    "c = np.fliplr(a)\n",
    "\n",
    "print(\"a = {}\".format(a))\n",
    "print(\"b = {}\".format(b))\n",
    "print(\"b = {}\".format(c))"
   ]
  },
  {
   "cell_type": "code",
   "execution_count": null,
   "metadata": {},
   "outputs": [],
   "source": []
  }
 ],
 "metadata": {
  "kernelspec": {
   "display_name": "Python 3",
   "language": "python",
   "name": "python3"
  },
  "language_info": {
   "codemirror_mode": {
    "name": "ipython",
    "version": 3
   },
   "file_extension": ".py",
   "mimetype": "text/x-python",
   "name": "python",
   "nbconvert_exporter": "python",
   "pygments_lexer": "ipython3",
   "version": "3.7.6"
  }
 },
 "nbformat": 4,
 "nbformat_minor": 4
}
